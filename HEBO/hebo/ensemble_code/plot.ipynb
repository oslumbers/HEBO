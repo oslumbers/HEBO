{
 "cells": [
  {
   "cell_type": "code",
   "execution_count": 2,
   "metadata": {},
   "outputs": [],
   "source": [
    "import pickle"
   ]
  },
  {
   "cell_type": "code",
   "execution_count": 15,
   "metadata": {},
   "outputs": [],
   "source": [
    "# Read pickle file\n",
    "with open('/home/oslumbers/Documents/git_repos/HEBO/HEBO/hebo/ensemble_code/results/iris/num_ens_1.p', 'rb') as f:\n",
    "    x = pickle.load(f)"
   ]
  },
  {
   "cell_type": "code",
   "execution_count": 17,
   "metadata": {},
   "outputs": [
    {
     "data": {
      "text/plain": [
       "[[  max_depth  min_samples_leaf bootstrap  min_impurity_decrease max_features  \\\n",
       "  0         8          0.007563      True               0.007632         sqrt   \n",
       "  1        18          0.000909     False               0.099990         auto   \n",
       "  2         7          0.014760      True               0.008154         sqrt   \n",
       "  \n",
       "     metric  \n",
       "  0    0.94  \n",
       "  1    0.92  \n",
       "  2    0.93  ],\n",
       " [  max_depth  min_samples_leaf bootstrap  min_impurity_decrease max_features  \\\n",
       "  0        16          0.000253      True               0.000231         sqrt   \n",
       "  1         2          0.484283     False               0.146020         sqrt   \n",
       "  2        12          0.000564      True               0.000986         sqrt   \n",
       "  \n",
       "     metric  \n",
       "  0    0.94  \n",
       "  1    0.50  \n",
       "  2    0.94  ]]"
      ]
     },
     "execution_count": 17,
     "metadata": {},
     "output_type": "execute_result"
    }
   ],
   "source": [
    "x"
   ]
  },
  {
   "cell_type": "code",
   "execution_count": 14,
   "metadata": {},
   "outputs": [
    {
     "data": {
      "text/plain": [
       "[  max_depth  min_samples_leaf bootstrap  min_impurity_decrease max_features  \\\n",
       " 0         1          0.001001     False               0.090671         log2   \n",
       " 1        18          0.000114     False               0.109491         auto   \n",
       " 2        12          0.037015      True               0.029496         log2   \n",
       " \n",
       "      metric  \n",
       " 0 -0.711552  \n",
       " 1 -0.711552  \n",
       " 2  0.622044  ,\n",
       "   max_depth  min_samples_leaf bootstrap  min_impurity_decrease max_features  \\\n",
       " 0        13          0.016589      True               0.004352         sqrt   \n",
       " 1         6          0.169502      True               0.000230         sqrt   \n",
       " 2        12          0.037015      True               0.029496         log2   \n",
       " \n",
       "      metric  \n",
       " 0  0.812344  \n",
       " 1  0.468162  \n",
       " 2  0.622044  ]"
      ]
     },
     "execution_count": 14,
     "metadata": {},
     "output_type": "execute_result"
    }
   ],
   "source": [
    "x[1]"
   ]
  },
  {
   "cell_type": "code",
   "execution_count": null,
   "metadata": {},
   "outputs": [],
   "source": []
  }
 ],
 "metadata": {
  "kernelspec": {
   "display_name": "hebo",
   "language": "python",
   "name": "python3"
  },
  "language_info": {
   "codemirror_mode": {
    "name": "ipython",
    "version": 3
   },
   "file_extension": ".py",
   "mimetype": "text/x-python",
   "name": "python",
   "nbconvert_exporter": "python",
   "pygments_lexer": "ipython3",
   "version": "3.9.0"
  },
  "orig_nbformat": 4
 },
 "nbformat": 4,
 "nbformat_minor": 2
}
